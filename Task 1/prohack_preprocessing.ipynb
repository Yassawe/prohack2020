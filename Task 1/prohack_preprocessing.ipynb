{
 "cells": [
  {
   "cell_type": "code",
   "execution_count": 1,
   "metadata": {},
   "outputs": [],
   "source": [
    "import pandas as pd\n",
    "import numpy as np\n",
    "from sklearn.impute import KNNImputer\n",
    "#pd.set_option(\"display.max_rows\", None, \"display.max_columns\", None)"
   ]
  },
  {
   "cell_type": "code",
   "execution_count": 2,
   "metadata": {
    "scrolled": true
   },
   "outputs": [],
   "source": [
    "train=pd.read_csv(\"original datasets/train.csv\")\n",
    "test=pd.read_csv(\"original datasets/test.csv\")\n",
    "train[\"type\"]=\"train\"\n",
    "test[\"type\"]=\"test\""
   ]
  },
  {
   "cell_type": "code",
   "execution_count": 3,
   "metadata": {},
   "outputs": [],
   "source": [
    "d=pd.concat([train,test])"
   ]
  },
  {
   "cell_type": "code",
   "execution_count": 4,
   "metadata": {},
   "outputs": [],
   "source": [
    "galaxies=d.galaxy.unique().tolist()"
   ]
  },
  {
   "cell_type": "code",
   "execution_count": 5,
   "metadata": {},
   "outputs": [],
   "source": [
    "frames=[]\n",
    "for galaxy in galaxies:\n",
    "    df = d.loc[d.galaxy==galaxy, :]\n",
    "    df=df.sort_values('galactic year')\n",
    "    index=df.index\n",
    "    df.set_index(df['galactic year'], inplace=True)\n",
    "    for i in range(2, 79):\n",
    "        nna =df.iloc[:,[i]].notnull().sum()\n",
    "        nna = nna.tolist()\n",
    "        if (nna[0]>1):\n",
    "            df.iloc[:,[i]] = df.iloc[:,[i]].interpolate(method='slinear')\n",
    "    df.set_index(index, inplace=True)\n",
    "    frames.append(df)\n",
    "d_inter=pd.concat(frames)"
   ]
  },
  {
   "cell_type": "code",
   "execution_count": 6,
   "metadata": {},
   "outputs": [],
   "source": [
    "dr=d_inter.iloc[:, 2:79]"
   ]
  },
  {
   "cell_type": "code",
   "execution_count": 7,
   "metadata": {},
   "outputs": [],
   "source": [
    "normalized_dr=(dr-dr.min())/(dr.max()-dr.min())"
   ]
  },
  {
   "cell_type": "code",
   "execution_count": 8,
   "metadata": {},
   "outputs": [],
   "source": [
    "imputer = KNNImputer(n_neighbors=5, weights='distance')\n",
    "filled=pd.DataFrame(imputer.fit_transform(normalized_dr), index = normalized_dr.index, columns = normalized_dr.columns)"
   ]
  },
  {
   "cell_type": "code",
   "execution_count": 9,
   "metadata": {},
   "outputs": [],
   "source": [
    "denormalized_dr = (filled*(dr.max()-dr.min()))+dr.min()"
   ]
  },
  {
   "cell_type": "code",
   "execution_count": 10,
   "metadata": {},
   "outputs": [],
   "source": [
    "d_inter.iloc[:,2:79]=denormalized_dr"
   ]
  },
  {
   "cell_type": "code",
   "execution_count": 11,
   "metadata": {},
   "outputs": [],
   "source": [
    "train_p=d_inter.loc[d_inter.type==\"train\", :].iloc[:, 0:80]\n",
    "train_p=train_p.sort_index()"
   ]
  },
  {
   "cell_type": "code",
   "execution_count": 12,
   "metadata": {},
   "outputs": [],
   "source": [
    "test_p=d_inter.loc[d_inter.type==\"test\",:].iloc[:, 0:79]\n",
    "test_p=test_p.sort_index()"
   ]
  },
  {
   "cell_type": "code",
   "execution_count": 13,
   "metadata": {},
   "outputs": [],
   "source": [
    "train_p.to_csv(\"datasets/combined_interpol_knn3/train.csv\", index=False)\n",
    "test_p.to_csv(\"datasets/combined_interpol_knn3/test.csv\", index=False)"
   ]
  },
  {
   "cell_type": "code",
   "execution_count": null,
   "metadata": {},
   "outputs": [],
   "source": []
  }
 ],
 "metadata": {
  "kernelspec": {
   "display_name": "Python 3",
   "language": "python",
   "name": "python3"
  },
  "language_info": {
   "codemirror_mode": {
    "name": "ipython",
    "version": 3
   },
   "file_extension": ".py",
   "mimetype": "text/x-python",
   "name": "python",
   "nbconvert_exporter": "python",
   "pygments_lexer": "ipython3",
   "version": "3.7.6"
  }
 },
 "nbformat": 4,
 "nbformat_minor": 4
}
