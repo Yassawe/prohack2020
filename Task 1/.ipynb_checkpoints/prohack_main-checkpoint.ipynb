{
 "cells": [
  {
   "cell_type": "code",
   "execution_count": 1,
   "metadata": {},
   "outputs": [],
   "source": [
    "import pandas as pd\n",
    "import numpy as np\n",
    "import xgboost as xgb\n",
    "from sklearn.model_selection import train_test_split\n",
    "from sklearn.impute import SimpleImputer\n",
    "import random\n",
    "import numpy as np\n",
    "\n",
    "np.random.seed(16783983)\n",
    "random.seed(1678839)\n",
    "pd.set_option(\"display.max_rows\", None, \"display.max_columns\", None)"
   ]
  },
  {
   "cell_type": "code",
   "execution_count": 2,
   "metadata": {},
   "outputs": [],
   "source": [
    "#train=pd.read_csv(\"original datasets/train.csv\")\n",
    "#test=pd.read_csv(\"original datasets/test.csv\")"
   ]
  },
  {
   "cell_type": "code",
   "execution_count": 3,
   "metadata": {},
   "outputs": [],
   "source": [
    "train=pd.read_csv(\"datasets/combined_interpol_knn3/train.csv\")\n",
    "test=pd.read_csv(\"datasets/combined_interpol_knn3/test.csv\")"
   ]
  },
  {
   "cell_type": "code",
   "execution_count": 4,
   "metadata": {},
   "outputs": [],
   "source": [
    "galaxies_train=train.galaxy.unique().tolist()\n",
    "galaxies_test=test.galaxy.unique().tolist()\n",
    "common_galaxies=list(set(galaxies_train) & set(galaxies_test))"
   ]
  },
  {
   "cell_type": "code",
   "execution_count": 5,
   "metadata": {},
   "outputs": [],
   "source": [
    "def divide_galaxies(common_galaxies, train):\n",
    "    increasing_galaxies=[]\n",
    "    decreasing_galaxies=[]\n",
    "    \n",
    "    for galaxy in common_galaxies:\n",
    "        subset=train.loc[train.galaxy==galaxy, :]\n",
    "        subset=subset.sort_values('galactic year')\n",
    "        first=subset.iloc[[0], [-1]]\n",
    "        last=subset.iloc[[-1], [-1]]\n",
    "        \n",
    "        if last['y'].to_list()[0]>first['y'].to_list()[0]:\n",
    "            increasing_galaxies.append(galaxy)\n",
    "        else:\n",
    "            decreasing_galaxies.append(galaxy)\n",
    "    return increasing_galaxies, decreasing_galaxies\n",
    "            "
   ]
  },
  {
   "cell_type": "code",
   "execution_count": null,
   "metadata": {},
   "outputs": [],
   "source": [
    "def ml_loop(galaxy_data, test_data, param):    \n",
    "    labels=galaxy_data['y']\n",
    "    \n",
    "    galaxy_data=galaxy_data.drop('y', axis=1)\n",
    "    galaxy_data=galaxy_data.drop('galaxy', axis=1)\n",
    "    test_data=test_data.drop('galaxy', axis=1)\n",
    "    \n",
    "    #imp=SimpleImputer()\n",
    "    #galaxy_data=pd.DataFrame(imp.fit_transform(galaxy_data), index=galaxy_data.index)\n",
    "    \n",
    "    data = train_test_split(galaxy_data, labels, test_size=0.2, shuffle=True)\n",
    "    X_train, X_valid, Y_train, Y_valid = data\n",
    "    \n",
    "\n",
    "    \n",
    "    #dtrain = xgb.DMatrix(X_train, label=Y_train)\n",
    "    #deval = xgb.DMatrix(X_valid, label=Y_valid)\n",
    "    \n",
    "   \n",
    "      \n",
    "    model = xgb.XGBRegressor(**param)\n",
    "    model.fit(X_train, Y_train, eval_set=[(X_train, Y_train),(X_valid, Y_valid)], eval_metric='rmse', early_stopping_rounds=1, verbose=False)\n",
    "    progress=model.evals_result()\n",
    "    y_pred = model.predict(test_data, ntree_limit=model.best_ntree_limit)\n",
    "    test_data['y']=y_pred\n",
    "    \n",
    "    return test_data, progress\n",
    "    "
   ]
  },
  {
   "cell_type": "code",
   "execution_count": null,
   "metadata": {},
   "outputs": [],
   "source": [
    "def train_f(common_galaxies, train, test, param):\n",
    "    performance={}\n",
    "    predicted_galaxies=[]\n",
    "    \n",
    "    for galaxy in common_galaxies:\n",
    "        train_subset=train.loc[train.galaxy==galaxy, :]\n",
    "        test_subset=test.loc[test.galaxy==galaxy,:]\n",
    "        \n",
    "        test_subset_predicted, progress=ml_loop(train_subset, test_subset, param)\n",
    "        \n",
    "        train_performance=progress['validation_0']['rmse'][-1]\n",
    "        eval_performance=progress['validation_1']['rmse'][-1]\n",
    "        \n",
    "        performance[galaxy]=[train_performance, eval_performance]\n",
    "        \n",
    "        test_subset_predicted.insert(1, 'galaxy',galaxy)\n",
    "        predicted_galaxies.append(test_subset_predicted)\n",
    "        \n",
    "    test_predicted=pd.concat(predicted_galaxies)  \n",
    "    \n",
    "    return test_predicted.sort_index(), performance\n",
    "            "
   ]
  },
  {
   "cell_type": "code",
   "execution_count": null,
   "metadata": {},
   "outputs": [],
   "source": [
    "increasing_galaxies, decreasing_galaxies = divide_galaxies(common_galaxies, train) #increasing == bad"
   ]
  },
  {
   "cell_type": "code",
   "execution_count": null,
   "metadata": {},
   "outputs": [],
   "source": [
    "paramIncreasing = {'max_depth': 25, \n",
    "         'n_estimators': 5000,\n",
    "         'gamma':0,\n",
    "         'eta': 0.3, \n",
    "         'objective': 'reg:squarederror', \n",
    "         'min_child_weight':0.1,\n",
    "         'colsample_bytree': 1,\n",
    "         'colsample_bylevel':1,\n",
    "         'importance_type': 'weight',\n",
    "         'subsample':1,\n",
    "         'lambda':0.01,\n",
    "         'num_parallel_tree':1,\n",
    "         'random_state':12\n",
    "        }"
   ]
  },
  {
   "cell_type": "code",
   "execution_count": null,
   "metadata": {},
   "outputs": [],
   "source": [
    "test_pred_Inc, performance_Inc = train_f(increasing_galaxies, train, test, paramIncreasing)"
   ]
  },
  {
   "cell_type": "code",
   "execution_count": null,
   "metadata": {},
   "outputs": [],
   "source": [
    "performance_Inc = pd.DataFrame.from_dict(performance_Inc, orient='index', columns=['train_rmse', 'eval_rmse'])\n",
    "performance_Inc=performance_Inc.sort_values('eval_rmse', ascending=False)"
   ]
  },
  {
   "cell_type": "code",
   "execution_count": null,
   "metadata": {},
   "outputs": [],
   "source": [
    "performance_Inc.head(-1)"
   ]
  },
  {
   "cell_type": "code",
   "execution_count": null,
   "metadata": {},
   "outputs": [],
   "source": [
    "performance_Inc.describe()"
   ]
  },
  {
   "cell_type": "code",
   "execution_count": null,
   "metadata": {},
   "outputs": [],
   "source": [
    "paramDecreasing = {'max_depth': 25, \n",
    "         'n_estimators': 5000,\n",
    "         'gamma':0,\n",
    "         'eta': 0.3, \n",
    "         'objective': 'reg:squarederror', \n",
    "         'min_child_weight':0.1,\n",
    "         'colsample_bytree': 1,\n",
    "         'colsample_bylevel':1,\n",
    "         'importance_type': 'cover',\n",
    "         'subsample':1,\n",
    "         'lambda':0.01,\n",
    "         'num_parallel_tree':1,\n",
    "         'random_state':12\n",
    "        }"
   ]
  },
  {
   "cell_type": "code",
   "execution_count": null,
   "metadata": {},
   "outputs": [],
   "source": [
    "test_pred_Dec, performance_Dec = train_f(decreasing_galaxies, train, test, paramDecreasing)"
   ]
  },
  {
   "cell_type": "code",
   "execution_count": null,
   "metadata": {},
   "outputs": [],
   "source": [
    "performance_Dec = pd.DataFrame.from_dict(performance_Dec, orient='index', columns=['train_rmse', 'eval_rmse'])\n",
    "performance_Dec = performance_Dec.sort_values('eval_rmse', ascending=False)"
   ]
  },
  {
   "cell_type": "code",
   "execution_count": null,
   "metadata": {},
   "outputs": [],
   "source": [
    "performance_Dec.head(-1)"
   ]
  },
  {
   "cell_type": "code",
   "execution_count": null,
   "metadata": {},
   "outputs": [],
   "source": [
    "performance_Dec.describe()"
   ]
  },
  {
   "cell_type": "code",
   "execution_count": null,
   "metadata": {},
   "outputs": [],
   "source": [
    "###########################################################################################"
   ]
  },
  {
   "cell_type": "code",
   "execution_count": null,
   "metadata": {},
   "outputs": [],
   "source": [
    "test_pr=test.copy()"
   ]
  },
  {
   "cell_type": "code",
   "execution_count": null,
   "metadata": {},
   "outputs": [],
   "source": [
    "test_pr['y']=0"
   ]
  },
  {
   "cell_type": "code",
   "execution_count": null,
   "metadata": {},
   "outputs": [],
   "source": [
    "test_pr.iloc[test_pred_Dec.index.to_list(), :]=test_pred_Dec"
   ]
  },
  {
   "cell_type": "code",
   "execution_count": null,
   "metadata": {},
   "outputs": [],
   "source": [
    "test_pr.iloc[test_pred_Inc.index.to_list(), :]=test_pred_Inc"
   ]
  },
  {
   "cell_type": "code",
   "execution_count": null,
   "metadata": {},
   "outputs": [],
   "source": [
    "test_pr.head(-1)"
   ]
  },
  {
   "cell_type": "code",
   "execution_count": null,
   "metadata": {},
   "outputs": [],
   "source": [
    "test.head(-1)"
   ]
  },
  {
   "cell_type": "code",
   "execution_count": null,
   "metadata": {},
   "outputs": [],
   "source": [
    "test_pr.to_csv(\"test_predicted.csv\", index=False)"
   ]
  },
  {
   "cell_type": "code",
   "execution_count": null,
   "metadata": {},
   "outputs": [],
   "source": []
  }
 ],
 "metadata": {
  "kernelspec": {
   "display_name": "Python 3",
   "language": "python",
   "name": "python3"
  },
  "language_info": {
   "codemirror_mode": {
    "name": "ipython",
    "version": 3
   },
   "file_extension": ".py",
   "mimetype": "text/x-python",
   "name": "python",
   "nbconvert_exporter": "python",
   "pygments_lexer": "ipython3",
   "version": "3.7.6"
  }
 },
 "nbformat": 4,
 "nbformat_minor": 4
}
