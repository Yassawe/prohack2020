{
 "cells": [
  {
   "cell_type": "code",
   "execution_count": 21,
   "metadata": {},
   "outputs": [],
   "source": [
    "import pandas as pd\n",
    "import numpy as np\n",
    "from catboost import CatBoostRegressor\n",
    "from catboost import Pool\n",
    "from sklearn.model_selection import train_test_split"
   ]
  },
  {
   "cell_type": "code",
   "execution_count": 22,
   "metadata": {},
   "outputs": [],
   "source": [
    "train=pd.read_csv(\"datasets/combined_interpol_knn3/train.csv\")\n",
    "test=pd.read_csv(\"datasets/combined_interpol_knn3/test.csv\")"
   ]
  },
  {
   "cell_type": "code",
   "execution_count": 23,
   "metadata": {},
   "outputs": [],
   "source": [
    "galaxies_train=train.galaxy.unique().tolist()\n",
    "#galaxies_train.remove(\"NGC 5253\")\n",
    "galaxies_test=test.galaxy.unique().tolist()\n",
    "common_galaxies=list(set(galaxies_train) & set(galaxies_test))"
   ]
  },
  {
   "cell_type": "code",
   "execution_count": 24,
   "metadata": {},
   "outputs": [],
   "source": [
    "labels=train['y']\n",
    "train=train.drop('y', axis=1)"
   ]
  },
  {
   "cell_type": "code",
   "execution_count": null,
   "metadata": {},
   "outputs": [
    {
     "name": "stdout",
     "output_type": "stream",
     "text": [
      "Learning rate set to 0.057035\n",
      "0:\tlearn: 0.0525260\ttest: 0.0873953\tbest: 0.0873953 (0)\ttotal: 19.5ms\tremaining: 19.4s\n"
     ]
    }
   ],
   "source": [
    "data = train_test_split(train, labels, test_size=0.2, shuffle=False)\n",
    "\n",
    "X_train, X_valid, Y_train, Y_valid = data\n",
    "    \n",
    "train_pool=Pool(\n",
    "    data=X_train,\n",
    "    label=Y_train,\n",
    "    cat_features=['galaxy']\n",
    "    )\n",
    "\n",
    "val_pool=Pool(\n",
    "    data=X_valid,\n",
    "    label=Y_valid,\n",
    "    cat_features=['galaxy']\n",
    "    )\n",
    "    \n",
    "model=CatBoostRegressor(iterations=1000)\n",
    "model.fit(train_pool, eval_set=val_pool, verbose=100)"
   ]
  },
  {
   "cell_type": "code",
   "execution_count": null,
   "metadata": {},
   "outputs": [],
   "source": []
  }
 ],
 "metadata": {
  "kernelspec": {
   "display_name": "Python 3",
   "language": "python",
   "name": "python3"
  },
  "language_info": {
   "codemirror_mode": {
    "name": "ipython",
    "version": 3
   },
   "file_extension": ".py",
   "mimetype": "text/x-python",
   "name": "python",
   "nbconvert_exporter": "python",
   "pygments_lexer": "ipython3",
   "version": "3.7.6"
  }
 },
 "nbformat": 4,
 "nbformat_minor": 4
}
